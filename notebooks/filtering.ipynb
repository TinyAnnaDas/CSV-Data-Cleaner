{
 "cells": [
  {
   "cell_type": "code",
   "execution_count": 5,
   "id": "fb92ac6c",
   "metadata": {},
   "outputs": [],
   "source": [
    "import pandas as pd"
   ]
  },
  {
   "cell_type": "code",
   "execution_count": 6,
   "id": "379ddf0f",
   "metadata": {},
   "outputs": [],
   "source": [
    "df = pd.read_csv(\"../data/survey_results_public.csv\", index_col=\"ResponseId\") #ResponseId of the df itself is a unique value\n",
    "schema_df = pd.read_csv(\"../data/survey_results_schema.csv\", index_col=\"qname\")"
   ]
  },
  {
   "cell_type": "code",
   "execution_count": 7,
   "id": "87da5cf9",
   "metadata": {},
   "outputs": [],
   "source": [
    "pd.set_option(\"display.max_columns\", 85) # by default, to only 20 columns are shown even if there are more than that\n",
    "pd.set_option(\"display.max_rows\", 85)"
   ]
  },
  {
   "cell_type": "code",
   "execution_count": null,
   "id": "e4e85f59",
   "metadata": {},
   "outputs": [],
   "source": [
    "df.head(10)"
   ]
  },
  {
   "cell_type": "code",
   "execution_count": null,
   "id": "c352ce4e",
   "metadata": {},
   "outputs": [],
   "source": []
  }
 ],
 "metadata": {
  "kernelspec": {
   "display_name": "panda-1",
   "language": "python",
   "name": "python3"
  },
  "language_info": {
   "codemirror_mode": {
    "name": "ipython",
    "version": 3
   },
   "file_extension": ".py",
   "mimetype": "text/x-python",
   "name": "python",
   "nbconvert_exporter": "python",
   "pygments_lexer": "ipython3",
   "version": "3.12.10"
  }
 },
 "nbformat": 4,
 "nbformat_minor": 5
}
